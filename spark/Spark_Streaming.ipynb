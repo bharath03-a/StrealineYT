{
 "cells": [
  {
   "cell_type": "markdown",
   "metadata": {},
   "source": [
    "### Streaming Data from Kafka"
   ]
  },
  {
   "cell_type": "code",
   "execution_count": 1,
   "metadata": {},
   "outputs": [],
   "source": [
    "from pyspark.sql import SparkSession\n",
    "from pyspark.sql.functions import col, from_json\n",
    "from pyspark.sql.types import StructType, StringType\n"
   ]
  },
  {
   "cell_type": "code",
   "execution_count": 5,
   "metadata": {},
   "outputs": [
    {
     "name": "stderr",
     "output_type": "stream",
     "text": [
      "25/03/09 00:09:22 WARN SparkSession: Using an existing Spark session; only runtime SQL configurations will take effect.\n"
     ]
    }
   ],
   "source": [
    "spark = SparkSession.builder \\\n",
    "    .appName(\"KafkaSparkConsumer\") \\\n",
    "    .config(\"spark.sql.streaming.checkpointLocation\", \"/tmp/kafka_checkpoint\") \\\n",
    "    .config(\"spark.jars.packages\", \"io.confluent:kafka-spark_2.12:5.5.0\") \\\n",
    "    .getOrCreate()"
   ]
  },
  {
   "cell_type": "code",
   "execution_count": 6,
   "metadata": {},
   "outputs": [],
   "source": [
    "video_schema = StructType() \\\n",
    "    .add(\"videoId\", StringType()) \\\n",
    "    .add(\"title\", StringType()) \\\n",
    "    .add(\"description\", StringType()) \\\n",
    "    .add(\"channelId\", StringType()) \\\n",
    "    .add(\"publishedAt\", StringType()) \\\n",
    "    .add(\"viewCount\", StringType()) \\\n",
    "    .add(\"likeCount\", StringType()) \\\n",
    "    .add(\"commentCount\", StringType())"
   ]
  },
  {
   "cell_type": "code",
   "execution_count": 7,
   "metadata": {},
   "outputs": [],
   "source": [
    "kafka_df = spark \\\n",
    "    .readStream \\\n",
    "    .format(\"kafka\") \\\n",
    "    .option(\"kafka.bootstrap.servers\", \"localhost:9092\") \\\n",
    "    .option(\"subscribe\", \"youtube_video_info\") \\\n",
    "    .option(\"startingOffsets\", \"earliest\") \\\n",
    "    .load()"
   ]
  },
  {
   "cell_type": "code",
   "execution_count": 9,
   "metadata": {},
   "outputs": [
    {
     "name": "stdout",
     "output_type": "stream",
     "text": [
      "root\n",
      " |-- videoId: string (nullable = true)\n",
      " |-- title: string (nullable = true)\n",
      " |-- description: string (nullable = true)\n",
      " |-- channelId: string (nullable = true)\n",
      " |-- publishedAt: string (nullable = true)\n",
      " |-- viewCount: string (nullable = true)\n",
      " |-- likeCount: string (nullable = true)\n",
      " |-- commentCount: string (nullable = true)\n",
      "\n"
     ]
    }
   ],
   "source": [
    "parsed_df = kafka_df \\\n",
    "    .selectExpr(\"CAST(value AS STRING)\") \\\n",
    "    .select(from_json(col(\"value\"), video_schema).alias(\"data\")) \\\n",
    "    .select(\"data.*\")\n",
    "\n",
    "parsed_df.printSchema()"
   ]
  },
  {
   "cell_type": "code",
   "execution_count": 13,
   "metadata": {},
   "outputs": [
    {
     "name": "stderr",
     "output_type": "stream",
     "text": [
      "25/03/09 00:14:00 WARN ResolveWriteToStream: spark.sql.adaptive.enabled is not supported in streaming DataFrames/Datasets and will be disabled.\n",
      "25/03/09 00:14:00 WARN AdminClientConfig: These configurations '[key.deserializer, value.deserializer, enable.auto.commit, max.poll.records, auto.offset.reset]' were supplied but are not used yet.\n",
      "                                                                                \r"
     ]
    },
    {
     "name": "stdout",
     "output_type": "stream",
     "text": [
      "-------------------------------------------\n",
      "Batch: 0\n",
      "-------------------------------------------\n",
      "+-------+--------------------+--------------------+---------+-----------+---------+---------+------------+\n",
      "|videoId|               title|         description|channelId|publishedAt|viewCount|likeCount|commentCount|\n",
      "+-------+--------------------+--------------------+---------+-----------+---------+---------+------------+\n",
      "|   NULL|Learn Python - Fu...|This course will ...|     NULL|       NULL|     NULL|     NULL|        NULL|\n",
      "|   NULL|Math's Fundamenta...|Not everything th...|     NULL|       NULL|     NULL|     NULL|        NULL|\n",
      "|   NULL|Stealing Baseball...|I always sucked a...|     NULL|       NULL|     NULL|     NULL|        NULL|\n",
      "|   NULL|Help Protect the ...|We are excited to...|     NULL|       NULL|     NULL|     NULL|        NULL|\n",
      "|   NULL|Pinky and Panda F...|Pinky and Panda F...|     NULL|       NULL|     NULL|     NULL|        NULL|\n",
      "+-------+--------------------+--------------------+---------+-----------+---------+---------+------------+\n",
      "\n"
     ]
    },
    {
     "data": {
      "text/plain": [
       "False"
      ]
     },
     "execution_count": 13,
     "metadata": {},
     "output_type": "execute_result"
    }
   ],
   "source": [
    "query = parsed_df \\\n",
    "    .writeStream \\\n",
    "    .outputMode(\"append\") \\\n",
    "    .format(\"console\") \\\n",
    "    .start()\n",
    "\n",
    "# Stop the streaming query after 10 sec\n",
    "query.awaitTermination(10)"
   ]
  }
 ],
 "metadata": {
  "kernelspec": {
   "display_name": "data_eng",
   "language": "python",
   "name": "python3"
  },
  "language_info": {
   "codemirror_mode": {
    "name": "ipython",
    "version": 3
   },
   "file_extension": ".py",
   "mimetype": "text/x-python",
   "name": "python",
   "nbconvert_exporter": "python",
   "pygments_lexer": "ipython3",
   "version": "3.11.8"
  }
 },
 "nbformat": 4,
 "nbformat_minor": 2
}
