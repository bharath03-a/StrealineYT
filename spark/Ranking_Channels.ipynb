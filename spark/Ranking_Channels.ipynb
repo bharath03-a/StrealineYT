{
 "cells": [
  {
   "cell_type": "code",
   "execution_count": null,
   "metadata": {},
   "outputs": [],
   "source": [
    "from pyspark.sql import SparkSession\n",
    "from pyspark.sql.functions import col, from_json\n",
    "from pyspark.sql.types import StructType, StructField, StringType, ArrayType, FloatType, IntegerType\n",
    "\n",
    "# Initialize Spark\n",
    "spark = SparkSession.builder \\\n",
    "    .appName(\"YouTubeTranscriptAnalysis\") \\\n",
    "    .config(\"spark.sql.streaming.checkpointLocation\", \"/tmp/kafka_checkpoint\") \\\n",
    "    .config(\"spark.jars.packages\", \"org.apache.spark:spark-sql-kafka-0-10_2.12:3.5.4\") \\\n",
    "    .getOrCreate()"
   ]
  },
  {
   "cell_type": "markdown",
   "metadata": {},
   "source": [
    "### Step 1: Load Channel Data"
   ]
  },
  {
   "cell_type": "code",
   "execution_count": null,
   "metadata": {},
   "outputs": [],
   "source": [
    "channel_df = spark \\\n",
    "    .readStream \\\n",
    "    .format(\"kafka\") \\\n",
    "    .option(\"kafka.bootstrap.servers\", \"localhost:9092\") \\\n",
    "    .option(\"subscribe\", \"youtube_channel_info\") \\\n",
    "    .option(\"startingOffsets\", \"earliest\") \\\n",
    "    .load()\n",
    "\n",
    "# Parse channel data\n",
    "channel_parsed_df = channel_df \\\n",
    "    .selectExpr(\"CAST(value AS STRING)\") \\\n",
    "    .select(from_json(col(\"value\"), channel_schema).alias(\"data\")) \\\n",
    "    .select(\"data.channel_id\", \"data.subscriber_count\", \"data.view_count\", \"data.video_count\")\n",
    "\n",
    "channel_pd = channel_parsed_df.toPandas()"
   ]
  },
  {
   "cell_type": "markdown",
   "metadata": {},
   "source": [
    "### Step 2: Calculate Ranking Score"
   ]
  },
  {
   "cell_type": "code",
   "execution_count": null,
   "metadata": {},
   "outputs": [],
   "source": [
    "channel_pd[\"engagement_rate\"] = (channel_pd[\"view_count\"] / channel_pd[\"subscriber_count\"])\n",
    "channel_pd[\"sponsorship_score\"] = (\n",
    "    0.5 * channel_pd[\"subscriber_count\"] +\n",
    "    0.3 * channel_pd[\"engagement_rate\"] +\n",
    "    0.2 * channel_pd[\"video_count\"]\n",
    ")\n",
    "\n",
    "# Rank channels\n",
    "channel_pd = channel_pd.sort_values(\"sponsorship_score\", ascending=False)\n",
    "\n",
    "import matplotlib.pyplot as plt\n",
    "\n",
    "plt.figure(figsize=(12, 6))\n",
    "plt.barh(channel_pd[\"channel_id\"], channel_pd[\"sponsorship_score\"])\n",
    "plt.xlabel(\"Sponsorship Score\")\n",
    "plt.ylabel(\"Channel ID\")\n",
    "plt.title(\"Top YouTube Channels for Sponsorships\")\n",
    "plt.show()"
   ]
  }
 ],
 "metadata": {
  "kernelspec": {
   "display_name": "data_eng",
   "language": "python",
   "name": "python3"
  },
  "language_info": {
   "name": "python",
   "version": "3.11.8"
  }
 },
 "nbformat": 4,
 "nbformat_minor": 2
}
