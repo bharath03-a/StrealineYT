{
 "cells": [
  {
   "cell_type": "code",
   "execution_count": 1,
   "id": "a23d50b9-c445-4c6d-a0d5-bff00a433c81",
   "metadata": {},
   "outputs": [],
   "source": [
    "import os\n",
    "import sys\n",
    "import json\n",
    "from dotenv import load_dotenv"
   ]
  },
  {
   "cell_type": "code",
   "execution_count": 2,
   "id": "e8ce0e4a-8c6c-4c0d-80e8-23821fbf1c50",
   "metadata": {},
   "outputs": [
    {
     "data": {
      "text/plain": [
       "True"
      ]
     },
     "execution_count": 2,
     "metadata": {},
     "output_type": "execute_result"
    }
   ],
   "source": [
    "# Load environment variables from .env file\n",
    "load_dotenv()"
   ]
  },
  {
   "cell_type": "code",
   "execution_count": 5,
   "id": "6a912ff2-270b-40ff-88b3-5b92f9acfefe",
   "metadata": {},
   "outputs": [],
   "source": [
    "# Testing YouTube Data API\n",
    "sys.path.append(\"../\")\n",
    "from dags import youtube_data_api as yt"
   ]
  },
  {
   "cell_type": "markdown",
   "id": "642f52ff",
   "metadata": {},
   "source": [
    "### YouTube Data API"
   ]
  },
  {
   "cell_type": "code",
   "execution_count": 6,
   "id": "a71a9be6",
   "metadata": {},
   "outputs": [],
   "source": [
    "DataAPI = yt.LoadDataYT()"
   ]
  },
  {
   "cell_type": "code",
   "execution_count": 15,
   "id": "568bb767",
   "metadata": {},
   "outputs": [],
   "source": [
    "# getting channels\n",
    "channel_params = {\n",
    "    \"part\": \"snippet,contentDetails,statistics\",\n",
    "    \"id\": \"UC_x5XG1OV2P6uZZ5FSM9Ttw,UCNBmxc6FvKyxtCpUygcdINA\",  # comma separated list of ids\n",
    "    # \"maxResults\" : 10,\n",
    "    # \"forHandle\" : ,\n",
    "\n",
    "}\n",
    "\n",
    "channel_info = DataAPI.get_channels(channel_params)"
   ]
  },
  {
   "cell_type": "code",
   "execution_count": 28,
   "id": "652fd395",
   "metadata": {},
   "outputs": [
    {
     "data": {
      "text/plain": [
       "{'kind': 'youtube#channelListResponse',\n",
       " 'etag': 'Ql4ZG4ChchX7CsANcZWt_YKgaCY',\n",
       " 'pageInfo': {'totalResults': 2, 'resultsPerPage': 5},\n",
       " 'items': [{'kind': 'youtube#channel',\n",
       "   'etag': '9_U7xqXI2me15my8ADLmJGILs4M',\n",
       "   'id': 'UC_x5XG1OV2P6uZZ5FSM9Ttw',\n",
       "   'snippet': {'title': 'Google for Developers',\n",
       "    'description': 'Subscribe to join a community of creative developers and learn the latest in Google technology — from AI and cloud, to mobile and web.\\n\\nExplore more at developers.google.com\\n\\n',\n",
       "    'customUrl': '@googledevelopers',\n",
       "    'publishedAt': '2007-08-23T00:34:43Z',\n",
       "    'thumbnails': {'default': {'url': 'https://yt3.ggpht.com/2eI1TjX447QZFDe6R32K0V2mjbVMKT5mIfQR-wK5bAsxttS_7qzUDS1ojoSKeSP0NuWd6sl7qQ=s88-c-k-c0x00ffffff-no-rj',\n",
       "      'width': 88,\n",
       "      'height': 88},\n",
       "     'medium': {'url': 'https://yt3.ggpht.com/2eI1TjX447QZFDe6R32K0V2mjbVMKT5mIfQR-wK5bAsxttS_7qzUDS1ojoSKeSP0NuWd6sl7qQ=s240-c-k-c0x00ffffff-no-rj',\n",
       "      'width': 240,\n",
       "      'height': 240},\n",
       "     'high': {'url': 'https://yt3.ggpht.com/2eI1TjX447QZFDe6R32K0V2mjbVMKT5mIfQR-wK5bAsxttS_7qzUDS1ojoSKeSP0NuWd6sl7qQ=s800-c-k-c0x00ffffff-no-rj',\n",
       "      'width': 800,\n",
       "      'height': 800}},\n",
       "    'localized': {'title': 'Google for Developers',\n",
       "     'description': 'Subscribe to join a community of creative developers and learn the latest in Google technology — from AI and cloud, to mobile and web.\\n\\nExplore more at developers.google.com\\n\\n'},\n",
       "    'country': 'US'},\n",
       "   'contentDetails': {'relatedPlaylists': {'likes': '',\n",
       "     'uploads': 'UU_x5XG1OV2P6uZZ5FSM9Ttw'}},\n",
       "   'statistics': {'viewCount': '312096737',\n",
       "    'subscriberCount': '2420000',\n",
       "    'hiddenSubscriberCount': False,\n",
       "    'videoCount': '6469'}},\n",
       "  {'kind': 'youtube#channel',\n",
       "   'etag': 'WdjJaaj54tinOV0T65pfPqN6yMg',\n",
       "   'id': 'UCNBmxc6FvKyxtCpUygcdINA',\n",
       "   'snippet': {'title': 'WKYC Channel 3',\n",
       "    'description': \"Welcome to the main video channel of WKYC and Channel 3 News in Cleveland, Ohio...Northeast Ohio's news leader.\",\n",
       "    'customUrl': '@wkycchannel3',\n",
       "    'publishedAt': '2007-07-03T21:06:43Z',\n",
       "    'thumbnails': {'default': {'url': 'https://yt3.ggpht.com/ytc/AIdro_kgEPAVsdYHeqQUBFMHto7W6Y5idAaHaNKcH1sBfE0Gpe0=s88-c-k-c0x00ffffff-no-rj',\n",
       "      'width': 88,\n",
       "      'height': 88},\n",
       "     'medium': {'url': 'https://yt3.ggpht.com/ytc/AIdro_kgEPAVsdYHeqQUBFMHto7W6Y5idAaHaNKcH1sBfE0Gpe0=s240-c-k-c0x00ffffff-no-rj',\n",
       "      'width': 240,\n",
       "      'height': 240},\n",
       "     'high': {'url': 'https://yt3.ggpht.com/ytc/AIdro_kgEPAVsdYHeqQUBFMHto7W6Y5idAaHaNKcH1sBfE0Gpe0=s800-c-k-c0x00ffffff-no-rj',\n",
       "      'width': 800,\n",
       "      'height': 800}},\n",
       "    'localized': {'title': 'WKYC Channel 3',\n",
       "     'description': \"Welcome to the main video channel of WKYC and Channel 3 News in Cleveland, Ohio...Northeast Ohio's news leader.\"},\n",
       "    'country': 'US'},\n",
       "   'contentDetails': {'relatedPlaylists': {'likes': '',\n",
       "     'uploads': 'UUNBmxc6FvKyxtCpUygcdINA'}},\n",
       "   'statistics': {'viewCount': '305344036',\n",
       "    'subscriberCount': '413000',\n",
       "    'hiddenSubscriberCount': False,\n",
       "    'videoCount': '69624'}}]}"
      ]
     },
     "execution_count": 28,
     "metadata": {},
     "output_type": "execute_result"
    }
   ],
   "source": [
    "channel_info"
   ]
  },
  {
   "cell_type": "code",
   "execution_count": 27,
   "id": "5dee1058",
   "metadata": {},
   "outputs": [
    {
     "name": "stdout",
     "output_type": "stream",
     "text": [
      "2\n",
      "1\n"
     ]
    }
   ],
   "source": [
    "if \"items\" in channel_info:\n",
    "    print(len(channel_info[\"items\"]))\n",
    "    print(1)"
   ]
  },
  {
   "cell_type": "code",
   "execution_count": null,
   "id": "83966426",
   "metadata": {},
   "outputs": [],
   "source": [
    "# getting videos\n",
    "video_params = {\n",
    "    \"part\": \"snippet,contentDetails,statistics\",\n",
    "    \"chart\": \"mostPopular\",\n",
    "    #\"id\": \"\", # comman separated list of ids\n",
    "    # \"myRating\": \"like\",\n",
    "    # \"regionCode\": \"\",\n",
    "    # \"pageToken\": \"\",\n",
    "    # \"maxResults\" : 10,\n",
    "    # when chart is selected we can give videoCategoryId\n",
    "}\n",
    "\n",
    "vidoes_list = DataAPI.get_videos(video_params, max_videos=5)"
   ]
  },
  {
   "cell_type": "code",
   "execution_count": null,
   "id": "64a5e9e4",
   "metadata": {},
   "outputs": [],
   "source": [
    "vidoes_list"
   ]
  },
  {
   "cell_type": "code",
   "execution_count": null,
   "id": "ca89acf9",
   "metadata": {},
   "outputs": [],
   "source": [
    "# explore video category list"
   ]
  },
  {
   "cell_type": "code",
   "execution_count": 12,
   "id": "2b12f317",
   "metadata": {},
   "outputs": [],
   "source": [
    "# getting search results\n",
    "search_params = {\n",
    "            'part': 'snippet',\n",
    "            'q': 'machine learning|Cdeep learning -statistics',  # Searches for \"machine learning\" OR \"deep learning\" but NOT \"statistics\"\n",
    "            'type': 'channel',\n",
    "            'maxResults': 2,\n",
    "            'order': 'videoCount',\n",
    "            'publishedAfter': '2021-01-01T00:00:00Z',\n",
    "            #  'pageToken': \n",
    "        }\n",
    "\n",
    "search_results = DataAPI.get_search_results(search_params, max_results=5)"
   ]
  },
  {
   "cell_type": "code",
   "execution_count": 14,
   "id": "de13495e",
   "metadata": {},
   "outputs": [
    {
     "data": {
      "text/plain": [
       "[{'kind': 'youtube#searchResult',\n",
       "  'etag': 'Jtxh_TgHRHVsdz_Q-iVKrmOg6QU',\n",
       "  'id': {'kind': 'youtube#channel', 'channelId': 'UC8F-v_Aq72Z84K7tgYKQyig'},\n",
       "  'snippet': {'publishedAt': '2024-07-29T18:58:28Z',\n",
       "   'channelId': 'UC8F-v_Aq72Z84K7tgYKQyig',\n",
       "   'title': 'Machine learning ',\n",
       "   'description': 'Plz subscribe my channel.',\n",
       "   'thumbnails': {'default': {'url': 'https://yt3.ggpht.com/qzLRawvmC9DAvC4D2ierS8eph2jOEtf85UqBDQ0zu17H0T5RhDk3RzN1aHuiCMiyFpI_DpBF=s88-c-k-c0xffffffff-no-rj-mo'},\n",
       "    'medium': {'url': 'https://yt3.ggpht.com/qzLRawvmC9DAvC4D2ierS8eph2jOEtf85UqBDQ0zu17H0T5RhDk3RzN1aHuiCMiyFpI_DpBF=s240-c-k-c0xffffffff-no-rj-mo'},\n",
       "    'high': {'url': 'https://yt3.ggpht.com/qzLRawvmC9DAvC4D2ierS8eph2jOEtf85UqBDQ0zu17H0T5RhDk3RzN1aHuiCMiyFpI_DpBF=s800-c-k-c0xffffffff-no-rj-mo'}},\n",
       "   'channelTitle': 'Machine learning ',\n",
       "   'liveBroadcastContent': 'none',\n",
       "   'publishTime': '2024-07-29T18:58:28Z'}},\n",
       " {'kind': 'youtube#searchResult',\n",
       "  'etag': 'J-ybFt9QrSZDAMC_S2lNINEnTSE',\n",
       "  'id': {'kind': 'youtube#channel', 'channelId': 'UC3KO9eII0gkn2DVP--Kgzzg'},\n",
       "  'snippet': {'publishedAt': '2023-04-15T12:13:52Z',\n",
       "   'channelId': 'UC3KO9eII0gkn2DVP--Kgzzg',\n",
       "   'title': 'The Deep Learning Machine',\n",
       "   'description': '',\n",
       "   'thumbnails': {'default': {'url': 'https://yt3.ggpht.com/8WIbHe5AbdYchHwBx33QQ9B4jaHU49qicallKZPGcltzaq-C8KWzkqe4ZgxzoMH-cZ4PkTP9ow=s88-c-k-c0xffffffff-no-rj-mo'},\n",
       "    'medium': {'url': 'https://yt3.ggpht.com/8WIbHe5AbdYchHwBx33QQ9B4jaHU49qicallKZPGcltzaq-C8KWzkqe4ZgxzoMH-cZ4PkTP9ow=s240-c-k-c0xffffffff-no-rj-mo'},\n",
       "    'high': {'url': 'https://yt3.ggpht.com/8WIbHe5AbdYchHwBx33QQ9B4jaHU49qicallKZPGcltzaq-C8KWzkqe4ZgxzoMH-cZ4PkTP9ow=s800-c-k-c0xffffffff-no-rj-mo'}},\n",
       "   'channelTitle': 'The Deep Learning Machine',\n",
       "   'liveBroadcastContent': 'none',\n",
       "   'publishTime': '2023-04-15T12:13:52Z'}},\n",
       " {'kind': 'youtube#searchResult',\n",
       "  'etag': '374fWUq4ocFr_gSXPosFZ7Qk678',\n",
       "  'id': {'kind': 'youtube#channel', 'channelId': 'UCuoNQWLuEYwjP7mI23sZ3WQ'},\n",
       "  'snippet': {'publishedAt': '2023-03-21T01:12:25Z',\n",
       "   'channelId': 'UCuoNQWLuEYwjP7mI23sZ3WQ',\n",
       "   'title': 'West Coast Machine Learning',\n",
       "   'description': 'West Coast Machine Learning is a channel dedicated to exploring the exciting world of machine learning! Our group of techies is ...',\n",
       "   'thumbnails': {'default': {'url': 'https://yt3.ggpht.com/fccYSZ3Qi4qIJAvoVuXw0FQexEc1KEcBM9dEtvyHnKBtzcXDwCzer-xls7Dsz3xsgkn4vxStAzQ=s88-c-k-c0xffffffff-no-rj-mo'},\n",
       "    'medium': {'url': 'https://yt3.ggpht.com/fccYSZ3Qi4qIJAvoVuXw0FQexEc1KEcBM9dEtvyHnKBtzcXDwCzer-xls7Dsz3xsgkn4vxStAzQ=s240-c-k-c0xffffffff-no-rj-mo'},\n",
       "    'high': {'url': 'https://yt3.ggpht.com/fccYSZ3Qi4qIJAvoVuXw0FQexEc1KEcBM9dEtvyHnKBtzcXDwCzer-xls7Dsz3xsgkn4vxStAzQ=s800-c-k-c0xffffffff-no-rj-mo'}},\n",
       "   'channelTitle': 'West Coast Machine Learning',\n",
       "   'liveBroadcastContent': 'none',\n",
       "   'publishTime': '2023-03-21T01:12:25Z'}},\n",
       " {'kind': 'youtube#searchResult',\n",
       "  'etag': 'JcgzKYI-ncS2ah7DldJAbd6qorU',\n",
       "  'id': {'kind': 'youtube#channel', 'channelId': 'UCAMsdrVKldk2_d1BxegnBzg'},\n",
       "  'snippet': {'publishedAt': '2022-11-11T19:22:14Z',\n",
       "   'channelId': 'UCAMsdrVKldk2_d1BxegnBzg',\n",
       "   'title': 'Código Espinoza - IA y Machine Learning',\n",
       "   'description': 'Este es el espacio donde la inteligencia artificial y Python se encuentran para crear proyectos sorprendentes. Aprende desde los ...',\n",
       "   'thumbnails': {'default': {'url': 'https://yt3.ggpht.com/0HZMO2z7sB9cXG3fTOD43xb7vmbmCiBYkjrvcjVv9Xewo2ZKFHfASqDr-dZeC3m9vRlV5_3-XFo=s88-c-k-c0xffffffff-no-rj-mo'},\n",
       "    'medium': {'url': 'https://yt3.ggpht.com/0HZMO2z7sB9cXG3fTOD43xb7vmbmCiBYkjrvcjVv9Xewo2ZKFHfASqDr-dZeC3m9vRlV5_3-XFo=s240-c-k-c0xffffffff-no-rj-mo'},\n",
       "    'high': {'url': 'https://yt3.ggpht.com/0HZMO2z7sB9cXG3fTOD43xb7vmbmCiBYkjrvcjVv9Xewo2ZKFHfASqDr-dZeC3m9vRlV5_3-XFo=s800-c-k-c0xffffffff-no-rj-mo'}},\n",
       "   'channelTitle': 'Código Espinoza - IA y Machine Learning',\n",
       "   'liveBroadcastContent': 'none',\n",
       "   'publishTime': '2022-11-11T19:22:14Z'}},\n",
       " {'kind': 'youtube#searchResult',\n",
       "  'etag': 'TxoBBen2tVL1vCTel251aPE2gjU',\n",
       "  'id': {'kind': 'youtube#channel', 'channelId': 'UC8UMu78hc6EXANOIvVEVFow'},\n",
       "  'snippet': {'publishedAt': '2023-09-05T14:27:32Z',\n",
       "   'channelId': 'UC8UMu78hc6EXANOIvVEVFow',\n",
       "   'title': 'Machine Learning for Signal Processing CMU',\n",
       "   'description': 'Signal Processing is the science that deals with the extraction of information from signals of various kinds. This has two distinct ...',\n",
       "   'thumbnails': {'default': {'url': 'https://yt3.ggpht.com/TnEWl7W-zqIqAAf-0rtvNHKtcx_ImrCvI2RKPgpJiyHX4k3A16KDjLz8744hpmUsnlRphLTKDg=s88-c-k-c0xffffffff-no-rj-mo'},\n",
       "    'medium': {'url': 'https://yt3.ggpht.com/TnEWl7W-zqIqAAf-0rtvNHKtcx_ImrCvI2RKPgpJiyHX4k3A16KDjLz8744hpmUsnlRphLTKDg=s240-c-k-c0xffffffff-no-rj-mo'},\n",
       "    'high': {'url': 'https://yt3.ggpht.com/TnEWl7W-zqIqAAf-0rtvNHKtcx_ImrCvI2RKPgpJiyHX4k3A16KDjLz8744hpmUsnlRphLTKDg=s800-c-k-c0xffffffff-no-rj-mo'}},\n",
       "   'channelTitle': 'Machine Learning for Signal Processing CMU',\n",
       "   'liveBroadcastContent': 'none',\n",
       "   'publishTime': '2023-09-05T14:27:32Z'}}]"
      ]
     },
     "execution_count": 14,
     "metadata": {},
     "output_type": "execute_result"
    }
   ],
   "source": [
    "search_results"
   ]
  },
  {
   "cell_type": "code",
   "execution_count": null,
   "id": "70881701",
   "metadata": {},
   "outputs": [],
   "source": [
    "# getting comments\n",
    "comment_params = {\n",
    "    'part': 'snippet',\n",
    "    'videoId': 'dQw4w9WgXcQ', # comment id ah LoL\n",
    "    'maxResults': 5,\n",
    "    'textFormat': 'plainText'\n",
    "}\n",
    "\n",
    "comments_list = DataAPI.get_comments(comment_params, max_comments=10)"
   ]
  },
  {
   "cell_type": "code",
   "execution_count": null,
   "id": "5abe88aa",
   "metadata": {},
   "outputs": [],
   "source": [
    "comments_list"
   ]
  },
  {
   "cell_type": "code",
   "execution_count": null,
   "id": "7e363cbc",
   "metadata": {},
   "outputs": [],
   "source": [
    "# getting captions\n",
    "caption_params = {\n",
    "    'part': 'snippet',\n",
    "    'videoId': 'ERCMXc8x7mc',\n",
    "}\n",
    "\n",
    "captions_data = DataAPI.get_captions(caption_params)"
   ]
  },
  {
   "cell_type": "code",
   "execution_count": null,
   "id": "5eb4cc48",
   "metadata": {},
   "outputs": [],
   "source": [
    "captions_data\n",
    "\n",
    "# captions are useless"
   ]
  },
  {
   "cell_type": "markdown",
   "id": "5db6205a",
   "metadata": {},
   "source": [
    "### YouTube Reporting and Analytics APIs"
   ]
  },
  {
   "cell_type": "code",
   "execution_count": null,
   "id": "4f64979e",
   "metadata": {},
   "outputs": [],
   "source": [
    "AnRAPI = yt.LoadAR()"
   ]
  },
  {
   "cell_type": "code",
   "execution_count": null,
   "id": "9c73a365",
   "metadata": {},
   "outputs": [],
   "source": [
    "# retrieve analytics report\n",
    "# anal_params = {\n",
    "#     'ids': 'channel==UCNBmxc6FvKyxtCpUygcdINA',\n",
    "#     'startDate': '2024-01-01',\n",
    "#     'endDate': '2024-12-31',\n",
    "#     'metrics': 'views,likes,dislikes,comments',\n",
    "#     'dimensions': 'day',  # Aggregate data by day\n",
    "#     #'filters': 'country==US',  # Filter by country, video==ID;\n",
    "#     'sort': '-views'  # Sort by descending views\n",
    "#     # 'includeHistoricalChannelData'\n",
    "#     # 'maxResults'\n",
    "# }\n",
    "\n",
    "# get_anal_report = AnRAPI.retrieve_analytics_report(anal_params)\n",
    "\n",
    "# not possible for other youtube channels data\n"
   ]
  },
  {
   "cell_type": "code",
   "execution_count": null,
   "id": "9259d48e",
   "metadata": {},
   "outputs": [],
   "source": [
    "# create a reporting job\n",
    "report_type_id = 'contentOwnerMonetizationReport'\n",
    "name = 'Monetization Report for 2024'\n",
    "onBehalfOfContentOwner = \"ID content owner - default mine\"\n",
    "\n",
    "# creatTime, expireTime, id, name, systemManaged\n",
    "\n",
    "# need to give a job body\n"
   ]
  },
  {
   "cell_type": "code",
   "execution_count": null,
   "id": "331252ff",
   "metadata": {},
   "outputs": [],
   "source": [
    "# list reporting jobs\n"
   ]
  },
  {
   "cell_type": "code",
   "execution_count": null,
   "id": "a37e7326",
   "metadata": {},
   "outputs": [],
   "source": [
    "# downloading reports\n",
    "job_id = 'job12345'\n",
    "report_id = 'report67890'\n",
    "download_path = '/path/to/save/report.csv'"
   ]
  },
  {
   "cell_type": "markdown",
   "id": "571b9c6d",
   "metadata": {},
   "source": [
    "What a bummer, I can't actually use YouTube reporting and analytics tools...\n",
    "\n",
    "Oh god!!!\n",
    "\n",
    "But it will be damn useful..."
   ]
  },
  {
   "cell_type": "markdown",
   "id": "457d7901",
   "metadata": {},
   "source": [
    "[{'kind': 'youtube#searchResult',\n",
    "  'etag': 'lEVPJB-1IwuyV8gFOWKCQvhnntg',\n",
    "  'id': {'kind': 'youtube#video', 'videoId': 'ERCMXc8x7mc'},\n",
    "  'snippet': {'publishedAt': '2024-02-12T14:24:29Z',\n",
    "   'channelId': 'UCBwmMxybNva6P_5VmxjzwqA',\n",
    "   'title': 'Python Tutorial for Beginners - Full Course (with Notes &amp; Practice Questions)',\n",
    "   'description': 'You can start your Tech Placement/Internship journey with New Sigma 4.0 : https://www.apnacollege.in/course/sigma-4 Early bird ...',\n",
    "   'thumbnails': {'default': {'url': 'https://i.ytimg.com/vi/ERCMXc8x7mc/default.jpg',\n",
    "     'width': 120,\n",
    "     'height': 90},\n",
    "    'medium': {'url': 'https://i.ytimg.com/vi/ERCMXc8x7mc/mqdefault.jpg',\n",
    "     'width': 320,\n",
    "     'height': 180},\n",
    "    'high': {'url': 'https://i.ytimg.com/vi/ERCMXc8x7mc/hqdefault.jpg',\n",
    "     'width': 480,\n",
    "     'height': 360}},\n",
    "   'channelTitle': 'Apna College',\n",
    "   'liveBroadcastContent': 'none',\n",
    "   'publishTime': '2024-02-12T14:24:29Z'}},\n",
    " {'kind': 'youtube#searchResult',\n",
    "  'etag': 'UM1kKaLI96NY4tLErrEhnrAtO6Q',\n",
    "  'id': {'kind': 'youtube#video', 'videoId': 'UrsmFxEIp5k'},\n",
    "  'snippet': {'publishedAt': '2024-06-16T05:36:24Z',\n",
    "   'channelId': 'UCeVMnSShP_Iviwkknt83cww',\n",
    "   'title': 'Python Tutorial For Beginners in Hindi | Complete Python Course 🔥',\n",
    "   'description': 'Source Code: https://github.com/CodeWithHarry/The-Ultimate-Python-Course Python PDF Handbook (authored by me): ...',\n",
    "   'thumbnails': {'default': {'url': 'https://i.ytimg.com/vi/UrsmFxEIp5k/default.jpg',\n",
    "     'width': 120,\n",
    "     'height': 90},\n",
    "    'medium': {'url': 'https://i.ytimg.com/vi/UrsmFxEIp5k/mqdefault.jpg',\n",
    "     'width': 320,\n",
    "     'height': 180},\n",
    "    'high': {'url': 'https://i.ytimg.com/vi/UrsmFxEIp5k/hqdefault.jpg',\n",
    "     'width': 480,\n",
    "     'height': 360}},\n",
    "   'channelTitle': 'CodeWithHarry',\n",
    "   'liveBroadcastContent': 'none',\n",
    "   'publishTime': '2024-06-16T05:36:24Z'}},\n",
    " {'kind': 'youtube#searchResult',\n",
    "  'etag': 'bExSUiYXlyWxJ_rttjwTZMTGtbQ',\n",
    "  'id': {'kind': 'youtube#video', 'videoId': 't2_Q2BRzeEE'},\n",
    "  'snippet': {'publishedAt': '2024-01-26T15:31:21Z',\n",
    "   'channelId': 'UC1XBh-m27kkgwLAwu_SRJBg',\n",
    "   'title': 'Python Full Course❤️ | Variables &amp; Data Types | Lecture 1',\n",
    "   'description': 'This lecture was made with a lot of love❤️ Notes ...',\n",
    "   'thumbnails': {'default': {'url': 'https://i.ytimg.com/vi/t2_Q2BRzeEE/default.jpg',\n",
    "     'width': 120,\n",
    "     'height': 90},\n",
    "    'medium': {'url': 'https://i.ytimg.com/vi/t2_Q2BRzeEE/mqdefault.jpg',\n",
    "     'width': 320,\n",
    "     'height': 180},\n",
    "    'high': {'url': 'https://i.ytimg.com/vi/t2_Q2BRzeEE/hqdefault.jpg',\n",
    "     'width': 480,\n",
    "     'height': 360}},\n",
    "   'channelTitle': 'Shradha Khapra',\n",
    "   'liveBroadcastContent': 'none',\n",
    "   'publishTime': '2024-01-26T15:31:21Z'}},\n",
    " {'kind': 'youtube#searchResult',\n",
    "  'etag': 'sphQz-viso8DCr7pp_u5cgbY8OU',\n",
    "  'id': {'kind': 'youtube#video', 'videoId': 'wjZofJX0v4M'},\n",
    "  'snippet': {'publishedAt': '2024-04-01T19:13:57Z',\n",
    "   'channelId': 'UCYO_jab_esuFRV4b17AJtAw',\n",
    "   'title': 'Transformers (how LLMs work) explained visually | DL5',\n",
    "   'description': 'Breaking down how Large Language Models work Instead of sponsored ad reads, these lessons are funded directly by viewers: ...',\n",
    "   'thumbnails': {'default': {'url': 'https://i.ytimg.com/vi/wjZofJX0v4M/default.jpg',\n",
    "     'width': 120,\n",
    "     'height': 90},\n",
    "    'medium': {'url': 'https://i.ytimg.com/vi/wjZofJX0v4M/mqdefault.jpg',\n",
    "     'width': 320,\n",
    "     'height': 180},\n",
    "    'high': {'url': 'https://i.ytimg.com/vi/wjZofJX0v4M/hqdefault.jpg',\n",
    "     'width': 480,\n",
    "     'height': 360}},\n",
    "   'channelTitle': '3Blue1Brown',\n",
    "   'liveBroadcastContent': 'none',\n",
    "   'publishTime': '2024-04-01T19:13:57Z'}},\n",
    " {'kind': 'youtube#searchResult',\n",
    "  'etag': '_EbFmS9_EfDNpSeZSqqNDBhJ-Yo',\n",
    "  'id': {'kind': 'youtube#video', 'videoId': 'VaSjiJMrq24'},\n",
    "  'snippet': {'publishedAt': '2024-01-07T13:30:10Z',\n",
    "   'channelId': 'UC0T6MVd3wQDB5ICAe45OxaQ',\n",
    "   'title': 'Data Analytics FULL Course for Beginners to Pro in 29 HOURS - 2025 Edition',\n",
    "   'description': 'Data Analytics FULL Course for Beginners to Pro in 29 HOURS - 2025 Edition To learn Data Analytics Course online with ...',\n",
    "   'thumbnails': {'default': {'url': 'https://i.ytimg.com/vi/VaSjiJMrq24/default.jpg',\n",
    "     'width': 120,\n",
    "     'height': 90},\n",
    "    'medium': {'url': 'https://i.ytimg.com/vi/VaSjiJMrq24/mqdefault.jpg',\n",
    "     'width': 320,\n",
    "     'height': 180},\n",
    "    'high': {'url': 'https://i.ytimg.com/vi/VaSjiJMrq24/hqdefault.jpg',\n",
    "     'width': 480,\n",
    "     'height': 360}},\n",
    "   'channelTitle': 'WsCube Tech',\n",
    "   'liveBroadcastContent': 'none',\n",
    "   'publishTime': '2024-01-07T13:30:10Z'}}]\n"
   ]
  },
  {
   "cell_type": "markdown",
   "id": "4cdf9ef3",
   "metadata": {},
   "source": []
  }
 ],
 "metadata": {
  "kernelspec": {
   "display_name": "data_eng",
   "language": "python",
   "name": "python3"
  },
  "language_info": {
   "codemirror_mode": {
    "name": "ipython",
    "version": 3
   },
   "file_extension": ".py",
   "mimetype": "text/x-python",
   "name": "python",
   "nbconvert_exporter": "python",
   "pygments_lexer": "ipython3",
   "version": "3.11.11"
  }
 },
 "nbformat": 4,
 "nbformat_minor": 5
}
