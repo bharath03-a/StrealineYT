{
 "cells": [
  {
   "cell_type": "code",
   "execution_count": 1,
   "id": "a23d50b9-c445-4c6d-a0d5-bff00a433c81",
   "metadata": {},
   "outputs": [],
   "source": [
    "import os\n",
    "import sys\n",
    "import json\n",
    "from dotenv import load_dotenv"
   ]
  },
  {
   "cell_type": "code",
   "execution_count": 2,
   "id": "e8ce0e4a-8c6c-4c0d-80e8-23821fbf1c50",
   "metadata": {},
   "outputs": [
    {
     "data": {
      "text/plain": [
       "True"
      ]
     },
     "execution_count": 2,
     "metadata": {},
     "output_type": "execute_result"
    }
   ],
   "source": [
    "# Load environment variables from .env file\n",
    "load_dotenv()"
   ]
  },
  {
   "cell_type": "code",
   "execution_count": 3,
   "id": "6a912ff2-270b-40ff-88b3-5b92f9acfefe",
   "metadata": {},
   "outputs": [],
   "source": [
    "# Testing YouTube Data API\n",
    "sys.path.append(\"../\")\n",
    "from dags import youtube_data_api as yt"
   ]
  },
  {
   "cell_type": "markdown",
   "id": "642f52ff",
   "metadata": {},
   "source": [
    "### YouTube Data API"
   ]
  },
  {
   "cell_type": "code",
   "execution_count": 4,
   "id": "a71a9be6",
   "metadata": {},
   "outputs": [
    {
     "name": "stdout",
     "output_type": "stream",
     "text": [
      "[\u001b[34m2025-03-06T11:16:23.552-0700\u001b[0m] {\u001b[34mclient.py:\u001b[0m30} INFO\u001b[0m - Settings loaded and validated.\u001b[0m\n",
      "[\u001b[34m2025-03-06T11:16:23.560-0700\u001b[0m] {\u001b[34m__init__.py:\u001b[0m49} INFO\u001b[0m - file_cache is only supported with oauth2client<4.0.0\u001b[0m\n",
      "[\u001b[34m2025-03-06T11:16:23.599-0700\u001b[0m] {\u001b[34mclient.py:\u001b[0m47} INFO\u001b[0m - Authentication for YouTube DATA API using the API key has been completed.\u001b[0m\n",
      "[\u001b[34m2025-03-06T11:16:23.671-0700\u001b[0m] {\u001b[34m__init__.py:\u001b[0m49} INFO\u001b[0m - file_cache is only supported with oauth2client<4.0.0\u001b[0m\n",
      "[\u001b[34m2025-03-06T11:16:23.673-0700\u001b[0m] {\u001b[34mclient.py:\u001b[0m74} INFO\u001b[0m - Oauth for YouTube DATA API using the service account key has been completed.\u001b[0m\n"
     ]
    }
   ],
   "source": [
    "DataAPI = yt.LoadDataYT()"
   ]
  },
  {
   "cell_type": "code",
   "execution_count": null,
   "id": "568bb767",
   "metadata": {},
   "outputs": [],
   "source": [
    "# getting channels\n",
    "channel_params = {\n",
    "    \"part\": \"snippet,contentDetails,statistics\",\n",
    "    \"id\": \"UC_x5XG1OV2P6uZZ5FSM9Ttw,UCNBmxc6FvKyxtCpUygcdINA\",  # comma separated list of ids\n",
    "    # \"maxResults\" : 10,\n",
    "    # \"forHandle\" : ,\n",
    "\n",
    "}\n",
    "\n",
    "channel_info = DataAPI.get_channels(channel_params)"
   ]
  },
  {
   "cell_type": "code",
   "execution_count": null,
   "id": "652fd395",
   "metadata": {},
   "outputs": [],
   "source": [
    "channel_info"
   ]
  },
  {
   "cell_type": "code",
   "execution_count": null,
   "id": "5dee1058",
   "metadata": {},
   "outputs": [],
   "source": [
    "if \"items\" in channel_info:\n",
    "    print(len(channel_info[\"items\"]))\n",
    "    print(1)"
   ]
  },
  {
   "cell_type": "code",
   "execution_count": null,
   "id": "83966426",
   "metadata": {},
   "outputs": [],
   "source": [
    "# getting videos\n",
    "video_params = {\n",
    "    \"part\": \"snippet,contentDetails,statistics\",\n",
    "    \"chart\": \"mostPopular\",\n",
    "    #\"id\": \"\", # comman separated list of ids\n",
    "    # \"myRating\": \"like\",\n",
    "    # \"regionCode\": \"\",\n",
    "    # \"pageToken\": \"\",\n",
    "    # \"maxResults\" : 10,\n",
    "    # when chart is selected we can give videoCategoryId\n",
    "}\n",
    "\n",
    "vidoes_list = DataAPI.get_videos(video_params, max_videos=5)"
   ]
  },
  {
   "cell_type": "code",
   "execution_count": null,
   "id": "64a5e9e4",
   "metadata": {},
   "outputs": [],
   "source": [
    "vidoes_list"
   ]
  },
  {
   "cell_type": "code",
   "execution_count": null,
   "id": "ca89acf9",
   "metadata": {},
   "outputs": [],
   "source": [
    "# explore video category list"
   ]
  },
  {
   "cell_type": "code",
   "execution_count": null,
   "id": "2b12f317",
   "metadata": {},
   "outputs": [],
   "source": [
    "# getting search results\n",
    "search_params = {\n",
    "            'part': 'snippet',\n",
    "            'q': 'machine learning|Cdeep learning -statistics',  # Searches for \"machine learning\" OR \"deep learning\" but NOT \"statistics\"\n",
    "            'type': 'channel',\n",
    "            'maxResults': 2,\n",
    "            'order': 'videoCount',\n",
    "            'publishedAfter': '2021-01-01T00:00:00Z',\n",
    "            #  'pageToken': \n",
    "        }\n",
    "\n",
    "search_results = DataAPI.get_search_results(search_params, max_results=5)"
   ]
  },
  {
   "cell_type": "code",
   "execution_count": null,
   "id": "de13495e",
   "metadata": {},
   "outputs": [],
   "source": [
    "search_results"
   ]
  },
  {
   "cell_type": "code",
   "execution_count": 5,
   "id": "70881701",
   "metadata": {},
   "outputs": [
    {
     "name": "stdout",
     "output_type": "stream",
     "text": [
      "[\u001b[34m2025-03-06T11:16:31.057-0700\u001b[0m] {\u001b[34myoutube_data_api.py:\u001b[0m101} INFO\u001b[0m - Total comment threads fetched: 10\u001b[0m\n"
     ]
    }
   ],
   "source": [
    "# getting comments\n",
    "comment_params = {\n",
    "    'part': 'snippet',\n",
    "    'videoId': 'dQw4w9WgXcQ', # comment id ah LoL\n",
    "    'maxResults': 5,\n",
    "    'textFormat': 'plainText'\n",
    "}\n",
    "\n",
    "comments_list = DataAPI.get_comments(comment_params, max_comments=10)"
   ]
  },
  {
   "cell_type": "code",
   "execution_count": null,
   "id": "5abe88aa",
   "metadata": {},
   "outputs": [],
   "source": [
    "comments_list"
   ]
  },
  {
   "cell_type": "code",
   "execution_count": null,
   "id": "3ce843b2",
   "metadata": {},
   "outputs": [],
   "source": [
    "# getting comments\n",
    "comment_params = {\n",
    "    'part': 'id,snippet,replies',\n",
    "    #'allThreadsRelatedToChannelId': \"UC_x5XG1OV2P6uZZ5FSM9Ttw\", # comment id ah LoL\n",
    "    #'id': 'UgyS5DZZTo4_ebj5Ru54AaABAg',\n",
    "    'videoId' : 'rfscVS0vtbw,HeQX2HjkcNo,PmlRbfSavbI,UT2noVDFoaA,49MwTFZV7Z4',\n",
    "    'maxResults': 5,\n",
    "    'textFormat': 'plainText'\n",
    "}\n",
    "\n",
    "comments_list = DataAPI.get_comments(comment_params, max_comments=10)"
   ]
  },
  {
   "cell_type": "code",
   "execution_count": null,
   "id": "07ad91d8",
   "metadata": {},
   "outputs": [],
   "source": [
    "comments_list"
   ]
  },
  {
   "cell_type": "code",
   "execution_count": null,
   "id": "469ab3ad",
   "metadata": {},
   "outputs": [],
   "source": [
    "comment_params = {\n",
    "    'part': 'snippet',\n",
    "    #'allThreadsRelatedToChannelId': \"UC_x5XG1OV2P6uZZ5FSM9Ttw\", # comment id ah LoL\n",
    "    #'id': 'UgyS5DZZTo4_ebj5Ru54AaABAg',\n",
    "    'maxResults': 5,\n",
    "    'parentId': 'UgzDE2tasfmrYLyNkGt4AaABAg'\n",
    "}\n",
    "\n",
    "replies = DataAPI.get_comment_list(comment_params, max_comments=10)"
   ]
  },
  {
   "cell_type": "code",
   "execution_count": null,
   "id": "3929e8ba",
   "metadata": {},
   "outputs": [],
   "source": [
    "replies"
   ]
  },
  {
   "cell_type": "code",
   "execution_count": null,
   "id": "7e363cbc",
   "metadata": {},
   "outputs": [],
   "source": [
    "# getting captions\n",
    "caption_params = {\n",
    "    'part': 'snippet',\n",
    "    'videoId': 'ERCMXc8x7mc',\n",
    "}\n",
    "\n",
    "captions_data = DataAPI.get_captions(caption_params)"
   ]
  },
  {
   "cell_type": "code",
   "execution_count": null,
   "id": "5eb4cc48",
   "metadata": {},
   "outputs": [],
   "source": [
    "captions_data\n",
    "\n",
    "# captions are useless"
   ]
  },
  {
   "cell_type": "markdown",
   "id": "5db6205a",
   "metadata": {},
   "source": [
    "### YouTube Reporting and Analytics APIs"
   ]
  },
  {
   "cell_type": "code",
   "execution_count": null,
   "id": "4f64979e",
   "metadata": {},
   "outputs": [],
   "source": [
    "AnRAPI = yt.LoadAR()"
   ]
  },
  {
   "cell_type": "code",
   "execution_count": null,
   "id": "9c73a365",
   "metadata": {},
   "outputs": [],
   "source": [
    "# retrieve analytics report\n",
    "# anal_params = {\n",
    "#     'ids': 'channel==UCNBmxc6FvKyxtCpUygcdINA',\n",
    "#     'startDate': '2024-01-01',\n",
    "#     'endDate': '2024-12-31',\n",
    "#     'metrics': 'views,likes,dislikes,comments',\n",
    "#     'dimensions': 'day',  # Aggregate data by day\n",
    "#     #'filters': 'country==US',  # Filter by country, video==ID;\n",
    "#     'sort': '-views'  # Sort by descending views\n",
    "#     # 'includeHistoricalChannelData'\n",
    "#     # 'maxResults'\n",
    "# }\n",
    "\n",
    "# get_anal_report = AnRAPI.retrieve_analytics_report(anal_params)\n",
    "\n",
    "# not possible for other youtube channels data\n"
   ]
  },
  {
   "cell_type": "code",
   "execution_count": null,
   "id": "9259d48e",
   "metadata": {},
   "outputs": [],
   "source": [
    "# create a reporting job\n",
    "report_type_id = 'contentOwnerMonetizationReport'\n",
    "name = 'Monetization Report for 2024'\n",
    "onBehalfOfContentOwner = \"ID content owner - default mine\"\n",
    "\n",
    "# creatTime, expireTime, id, name, systemManaged\n",
    "\n",
    "# need to give a job body\n"
   ]
  },
  {
   "cell_type": "code",
   "execution_count": null,
   "id": "331252ff",
   "metadata": {},
   "outputs": [],
   "source": [
    "# list reporting jobs\n"
   ]
  },
  {
   "cell_type": "code",
   "execution_count": null,
   "id": "a37e7326",
   "metadata": {},
   "outputs": [],
   "source": [
    "# downloading reports\n",
    "job_id = 'job12345'\n",
    "report_id = 'report67890'\n",
    "download_path = '/path/to/save/report.csv'"
   ]
  },
  {
   "cell_type": "markdown",
   "id": "571b9c6d",
   "metadata": {},
   "source": [
    "What a bummer, I can't actually use YouTube reporting and analytics tools...\n",
    "\n",
    "Oh god!!!\n",
    "\n",
    "But it will be damn useful..."
   ]
  },
  {
   "cell_type": "markdown",
   "id": "457d7901",
   "metadata": {},
   "source": [
    "[{'kind': 'youtube#searchResult',\n",
    "  'etag': 'lEVPJB-1IwuyV8gFOWKCQvhnntg',\n",
    "  'id': {'kind': 'youtube#video', 'videoId': 'ERCMXc8x7mc'},\n",
    "  'snippet': {'publishedAt': '2024-02-12T14:24:29Z',\n",
    "   'channelId': 'UCBwmMxybNva6P_5VmxjzwqA',\n",
    "   'title': 'Python Tutorial for Beginners - Full Course (with Notes &amp; Practice Questions)',\n",
    "   'description': 'You can start your Tech Placement/Internship journey with New Sigma 4.0 : https://www.apnacollege.in/course/sigma-4 Early bird ...',\n",
    "   'thumbnails': {'default': {'url': 'https://i.ytimg.com/vi/ERCMXc8x7mc/default.jpg',\n",
    "     'width': 120,\n",
    "     'height': 90},\n",
    "    'medium': {'url': 'https://i.ytimg.com/vi/ERCMXc8x7mc/mqdefault.jpg',\n",
    "     'width': 320,\n",
    "     'height': 180},\n",
    "    'high': {'url': 'https://i.ytimg.com/vi/ERCMXc8x7mc/hqdefault.jpg',\n",
    "     'width': 480,\n",
    "     'height': 360}},\n",
    "   'channelTitle': 'Apna College',\n",
    "   'liveBroadcastContent': 'none',\n",
    "   'publishTime': '2024-02-12T14:24:29Z'}},\n",
    " {'kind': 'youtube#searchResult',\n",
    "  'etag': 'UM1kKaLI96NY4tLErrEhnrAtO6Q',\n",
    "  'id': {'kind': 'youtube#video', 'videoId': 'UrsmFxEIp5k'},\n",
    "  'snippet': {'publishedAt': '2024-06-16T05:36:24Z',\n",
    "   'channelId': 'UCeVMnSShP_Iviwkknt83cww',\n",
    "   'title': 'Python Tutorial For Beginners in Hindi | Complete Python Course 🔥',\n",
    "   'description': 'Source Code: https://github.com/CodeWithHarry/The-Ultimate-Python-Course Python PDF Handbook (authored by me): ...',\n",
    "   'thumbnails': {'default': {'url': 'https://i.ytimg.com/vi/UrsmFxEIp5k/default.jpg',\n",
    "     'width': 120,\n",
    "     'height': 90},\n",
    "    'medium': {'url': 'https://i.ytimg.com/vi/UrsmFxEIp5k/mqdefault.jpg',\n",
    "     'width': 320,\n",
    "     'height': 180},\n",
    "    'high': {'url': 'https://i.ytimg.com/vi/UrsmFxEIp5k/hqdefault.jpg',\n",
    "     'width': 480,\n",
    "     'height': 360}},\n",
    "   'channelTitle': 'CodeWithHarry',\n",
    "   'liveBroadcastContent': 'none',\n",
    "   'publishTime': '2024-06-16T05:36:24Z'}},\n",
    " {'kind': 'youtube#searchResult',\n",
    "  'etag': 'bExSUiYXlyWxJ_rttjwTZMTGtbQ',\n",
    "  'id': {'kind': 'youtube#video', 'videoId': 't2_Q2BRzeEE'},\n",
    "  'snippet': {'publishedAt': '2024-01-26T15:31:21Z',\n",
    "   'channelId': 'UC1XBh-m27kkgwLAwu_SRJBg',\n",
    "   'title': 'Python Full Course❤️ | Variables &amp; Data Types | Lecture 1',\n",
    "   'description': 'This lecture was made with a lot of love❤️ Notes ...',\n",
    "   'thumbnails': {'default': {'url': 'https://i.ytimg.com/vi/t2_Q2BRzeEE/default.jpg',\n",
    "     'width': 120,\n",
    "     'height': 90},\n",
    "    'medium': {'url': 'https://i.ytimg.com/vi/t2_Q2BRzeEE/mqdefault.jpg',\n",
    "     'width': 320,\n",
    "     'height': 180},\n",
    "    'high': {'url': 'https://i.ytimg.com/vi/t2_Q2BRzeEE/hqdefault.jpg',\n",
    "     'width': 480,\n",
    "     'height': 360}},\n",
    "   'channelTitle': 'Shradha Khapra',\n",
    "   'liveBroadcastContent': 'none',\n",
    "   'publishTime': '2024-01-26T15:31:21Z'}},\n",
    " {'kind': 'youtube#searchResult',\n",
    "  'etag': 'sphQz-viso8DCr7pp_u5cgbY8OU',\n",
    "  'id': {'kind': 'youtube#video', 'videoId': 'wjZofJX0v4M'},\n",
    "  'snippet': {'publishedAt': '2024-04-01T19:13:57Z',\n",
    "   'channelId': 'UCYO_jab_esuFRV4b17AJtAw',\n",
    "   'title': 'Transformers (how LLMs work) explained visually | DL5',\n",
    "   'description': 'Breaking down how Large Language Models work Instead of sponsored ad reads, these lessons are funded directly by viewers: ...',\n",
    "   'thumbnails': {'default': {'url': 'https://i.ytimg.com/vi/wjZofJX0v4M/default.jpg',\n",
    "     'width': 120,\n",
    "     'height': 90},\n",
    "    'medium': {'url': 'https://i.ytimg.com/vi/wjZofJX0v4M/mqdefault.jpg',\n",
    "     'width': 320,\n",
    "     'height': 180},\n",
    "    'high': {'url': 'https://i.ytimg.com/vi/wjZofJX0v4M/hqdefault.jpg',\n",
    "     'width': 480,\n",
    "     'height': 360}},\n",
    "   'channelTitle': '3Blue1Brown',\n",
    "   'liveBroadcastContent': 'none',\n",
    "   'publishTime': '2024-04-01T19:13:57Z'}},\n",
    " {'kind': 'youtube#searchResult',\n",
    "  'etag': '_EbFmS9_EfDNpSeZSqqNDBhJ-Yo',\n",
    "  'id': {'kind': 'youtube#video', 'videoId': 'VaSjiJMrq24'},\n",
    "  'snippet': {'publishedAt': '2024-01-07T13:30:10Z',\n",
    "   'channelId': 'UC0T6MVd3wQDB5ICAe45OxaQ',\n",
    "   'title': 'Data Analytics FULL Course for Beginners to Pro in 29 HOURS - 2025 Edition',\n",
    "   'description': 'Data Analytics FULL Course for Beginners to Pro in 29 HOURS - 2025 Edition To learn Data Analytics Course online with ...',\n",
    "   'thumbnails': {'default': {'url': 'https://i.ytimg.com/vi/VaSjiJMrq24/default.jpg',\n",
    "     'width': 120,\n",
    "     'height': 90},\n",
    "    'medium': {'url': 'https://i.ytimg.com/vi/VaSjiJMrq24/mqdefault.jpg',\n",
    "     'width': 320,\n",
    "     'height': 180},\n",
    "    'high': {'url': 'https://i.ytimg.com/vi/VaSjiJMrq24/hqdefault.jpg',\n",
    "     'width': 480,\n",
    "     'height': 360}},\n",
    "   'channelTitle': 'WsCube Tech',\n",
    "   'liveBroadcastContent': 'none',\n",
    "   'publishTime': '2024-01-07T13:30:10Z'}}]\n"
   ]
  },
  {
   "cell_type": "markdown",
   "id": "4cdf9ef3",
   "metadata": {},
   "source": []
  }
 ],
 "metadata": {
  "kernelspec": {
   "display_name": "data_eng",
   "language": "python",
   "name": "python3"
  },
  "language_info": {
   "codemirror_mode": {
    "name": "ipython",
    "version": 3
   },
   "file_extension": ".py",
   "mimetype": "text/x-python",
   "name": "python",
   "nbconvert_exporter": "python",
   "pygments_lexer": "ipython3",
   "version": "3.11.11"
  }
 },
 "nbformat": 4,
 "nbformat_minor": 5
}
